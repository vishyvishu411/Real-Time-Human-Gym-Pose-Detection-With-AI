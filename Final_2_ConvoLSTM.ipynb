{
 "cells": [
  {
   "cell_type": "markdown",
   "metadata": {
    "id": "0sZIXJ9ayeG-"
   },
   "source": [
    "# Convo LSTM Model\n",
    "by Neural Network Ninjas (COMP9444)\n",
    "\n",
    "z5444643 Vishesh Malik\n",
    "\n",
    "z5012904 Arifah binti Anwar Fadzil\n",
    "\n",
    "z5465111 Sathwik Bharadwaj Udupi\n",
    "\n",
    "z5447832 Devarshi Prakashbhai Patel\n",
    "\n",
    "z5435266 Bhuvan Tulani\n"
   ]
  },
  {
   "cell_type": "markdown",
   "metadata": {
    "id": "TzF4W0hhyzZ4"
   },
   "source": [
    "# Section 1:\n",
    "This is the 3rd model in our series. We created this model based on the study provided in the main code file (containg the working models), and then modified it as per our requirement to use video files.\n",
    "\n",
    "This model gave only 40% accuracy hence we could not use it to predict real time exercises.\n",
    "\n",
    "Note: While recreating this notebook for final submission we didn't have access to heavy computing units so we have created this model with simple video processing, ie. we have not preprocessed the data for this model as we have done in our other file for other two models.\n",
    "\n",
    "During our testing phase when we ran this model with preprocessed data the accuracy of this model ranged in between 40-45%.\n",
    "\n",
    "All the functions for this are taken from previous file"
   ]
  },
  {
   "cell_type": "markdown",
   "metadata": {
    "id": "iOgKVI052WIw"
   },
   "source": [
    "# Step 1\n",
    "reading contents in file"
   ]
  },
  {
   "cell_type": "code",
   "execution_count": 1,
   "metadata": {
    "colab": {
     "base_uri": "https://localhost:8080/"
    },
    "id": "hPDwqx2hspw5",
    "outputId": "70649bc8-4463-460b-b6b5-a6ea9e343b2c"
   },
   "outputs": [
    {
     "name": "stdout",
     "output_type": "stream",
     "text": [
      "Drive already mounted at /content/drive; to attempt to forcibly remount, call drive.mount(\"/content/drive\", force_remount=True).\n"
     ]
    }
   ],
   "source": [
    "from google.colab import drive\n",
    "drive.mount('/content/drive')"
   ]
  },
  {
   "cell_type": "markdown",
   "metadata": {
    "id": "Gpp_qts_2jNp"
   },
   "source": [
    "# Importing and predefining the data"
   ]
  },
  {
   "cell_type": "code",
   "execution_count": 2,
   "metadata": {
    "colab": {
     "base_uri": "https://localhost:8080/"
    },
    "id": "0MN2PzbQs4mv",
    "outputId": "631c4a5e-2361-4232-8430-504194f29487"
   },
   "outputs": [
    {
     "name": "stdout",
     "output_type": "stream",
     "text": [
      "Requirement already satisfied: ultralytics in /usr/local/lib/python3.10/dist-packages (8.0.212)\n",
      "Requirement already satisfied: matplotlib>=3.3.0 in /usr/local/lib/python3.10/dist-packages (from ultralytics) (3.7.1)\n",
      "Requirement already satisfied: numpy>=1.22.2 in /usr/local/lib/python3.10/dist-packages (from ultralytics) (1.23.5)\n",
      "Requirement already satisfied: opencv-python>=4.6.0 in /usr/local/lib/python3.10/dist-packages (from ultralytics) (4.8.0.76)\n",
      "Requirement already satisfied: pillow>=7.1.2 in /usr/local/lib/python3.10/dist-packages (from ultralytics) (9.4.0)\n",
      "Requirement already satisfied: pyyaml>=5.3.1 in /usr/local/lib/python3.10/dist-packages (from ultralytics) (6.0.1)\n",
      "Requirement already satisfied: requests>=2.23.0 in /usr/local/lib/python3.10/dist-packages (from ultralytics) (2.31.0)\n",
      "Requirement already satisfied: scipy>=1.4.1 in /usr/local/lib/python3.10/dist-packages (from ultralytics) (1.11.3)\n",
      "Requirement already satisfied: torch>=1.8.0 in /usr/local/lib/python3.10/dist-packages (from ultralytics) (2.1.0+cu118)\n",
      "Requirement already satisfied: torchvision>=0.9.0 in /usr/local/lib/python3.10/dist-packages (from ultralytics) (0.16.0+cu118)\n",
      "Requirement already satisfied: tqdm>=4.64.0 in /usr/local/lib/python3.10/dist-packages (from ultralytics) (4.66.1)\n",
      "Requirement already satisfied: pandas>=1.1.4 in /usr/local/lib/python3.10/dist-packages (from ultralytics) (1.5.3)\n",
      "Requirement already satisfied: seaborn>=0.11.0 in /usr/local/lib/python3.10/dist-packages (from ultralytics) (0.12.2)\n",
      "Requirement already satisfied: psutil in /usr/local/lib/python3.10/dist-packages (from ultralytics) (5.9.5)\n",
      "Requirement already satisfied: py-cpuinfo in /usr/local/lib/python3.10/dist-packages (from ultralytics) (9.0.0)\n",
      "Requirement already satisfied: thop>=0.1.1 in /usr/local/lib/python3.10/dist-packages (from ultralytics) (0.1.1.post2209072238)\n",
      "Requirement already satisfied: contourpy>=1.0.1 in /usr/local/lib/python3.10/dist-packages (from matplotlib>=3.3.0->ultralytics) (1.2.0)\n",
      "Requirement already satisfied: cycler>=0.10 in /usr/local/lib/python3.10/dist-packages (from matplotlib>=3.3.0->ultralytics) (0.12.1)\n",
      "Requirement already satisfied: fonttools>=4.22.0 in /usr/local/lib/python3.10/dist-packages (from matplotlib>=3.3.0->ultralytics) (4.44.3)\n",
      "Requirement already satisfied: kiwisolver>=1.0.1 in /usr/local/lib/python3.10/dist-packages (from matplotlib>=3.3.0->ultralytics) (1.4.5)\n",
      "Requirement already satisfied: packaging>=20.0 in /usr/local/lib/python3.10/dist-packages (from matplotlib>=3.3.0->ultralytics) (23.2)\n",
      "Requirement already satisfied: pyparsing>=2.3.1 in /usr/local/lib/python3.10/dist-packages (from matplotlib>=3.3.0->ultralytics) (3.1.1)\n",
      "Requirement already satisfied: python-dateutil>=2.7 in /usr/local/lib/python3.10/dist-packages (from matplotlib>=3.3.0->ultralytics) (2.8.2)\n",
      "Requirement already satisfied: pytz>=2020.1 in /usr/local/lib/python3.10/dist-packages (from pandas>=1.1.4->ultralytics) (2023.3.post1)\n",
      "Requirement already satisfied: charset-normalizer<4,>=2 in /usr/local/lib/python3.10/dist-packages (from requests>=2.23.0->ultralytics) (3.3.2)\n",
      "Requirement already satisfied: idna<4,>=2.5 in /usr/local/lib/python3.10/dist-packages (from requests>=2.23.0->ultralytics) (3.4)\n",
      "Requirement already satisfied: urllib3<3,>=1.21.1 in /usr/local/lib/python3.10/dist-packages (from requests>=2.23.0->ultralytics) (2.0.7)\n",
      "Requirement already satisfied: certifi>=2017.4.17 in /usr/local/lib/python3.10/dist-packages (from requests>=2.23.0->ultralytics) (2023.7.22)\n",
      "Requirement already satisfied: filelock in /usr/local/lib/python3.10/dist-packages (from torch>=1.8.0->ultralytics) (3.13.1)\n",
      "Requirement already satisfied: typing-extensions in /usr/local/lib/python3.10/dist-packages (from torch>=1.8.0->ultralytics) (4.5.0)\n",
      "Requirement already satisfied: sympy in /usr/local/lib/python3.10/dist-packages (from torch>=1.8.0->ultralytics) (1.12)\n",
      "Requirement already satisfied: networkx in /usr/local/lib/python3.10/dist-packages (from torch>=1.8.0->ultralytics) (3.2.1)\n",
      "Requirement already satisfied: jinja2 in /usr/local/lib/python3.10/dist-packages (from torch>=1.8.0->ultralytics) (3.1.2)\n",
      "Requirement already satisfied: fsspec in /usr/local/lib/python3.10/dist-packages (from torch>=1.8.0->ultralytics) (2023.6.0)\n",
      "Requirement already satisfied: triton==2.1.0 in /usr/local/lib/python3.10/dist-packages (from torch>=1.8.0->ultralytics) (2.1.0)\n",
      "Requirement already satisfied: six>=1.5 in /usr/local/lib/python3.10/dist-packages (from python-dateutil>=2.7->matplotlib>=3.3.0->ultralytics) (1.16.0)\n",
      "Requirement already satisfied: MarkupSafe>=2.0 in /usr/local/lib/python3.10/dist-packages (from jinja2->torch>=1.8.0->ultralytics) (2.1.3)\n",
      "Requirement already satisfied: mpmath>=0.19 in /usr/local/lib/python3.10/dist-packages (from sympy->torch>=1.8.0->ultralytics) (1.3.0)\n"
     ]
    }
   ],
   "source": [
    "#importing the header files and predefining the data\n",
    "import os\n",
    "import cv2\n",
    "import json\n",
    "import glob\n",
    "import numpy as np\n",
    "import pandas as pd\n",
    "import math\n",
    "import random\n",
    "import datetime as dt\n",
    "import tensorflow as tf\n",
    "import matplotlib.pyplot as plt\n",
    "from pycocotools.coco import COCO\n",
    "from collections import deque\n",
    "from sklearn.model_selection import train_test_split\n",
    "from tensorflow.keras.layers import *\n",
    "from tensorflow.keras.models import Sequential\n",
    "from tensorflow.keras.utils import to_categorical, plot_model\n",
    "from tensorflow.keras.callbacks import EarlyStopping\n",
    "from tensorflow.keras.models import load_model\n",
    "from moviepy.editor import *\n",
    "from IPython.display import *\n",
    "!pip install ultralytics\n",
    "from ultralytics import YOLO\n",
    "from matplotlib import pyplot\n",
    "from sklearn.model_selection import train_test_split\n",
    "from tensorflow.keras.optimizers import Adam\n",
    "from tensorflow.keras.models import Model\n",
    "\n",
    "img_height = 128\n",
    "img_width = 128\n",
    "frame = 20\n",
    "\n",
    "seed_constant = 27\n",
    "np.random.seed(seed_constant)\n",
    "tf.random.set_seed(seed_constant)\n",
    "random.seed(seed_constant)\n",
    "\n",
    "\n",
    "\n",
    "# Specify the directory containing the UCF50 dataset.\n",
    "Dataset = \"/content/drive/MyDrive/dataset/input/\"\n",
    "\n",
    "# Specify the list containing the names of the classes used for training. Feel free to choose any set of classes.\n",
    "CLASSES_LIST = ['overheadpress', 'squats', 'curls']\n",
    "\n"
   ]
  },
  {
   "cell_type": "markdown",
   "metadata": {
    "id": "BAmiegIW21Fe"
   },
   "source": [
    "# Extracting frames from videos"
   ]
  },
  {
   "cell_type": "code",
   "execution_count": 3,
   "metadata": {
    "id": "sm_0KM4Us7tD"
   },
   "outputs": [],
   "source": [
    "def extract_frames(video_path):\n",
    "  frame = 20\n",
    "  frames = []\n",
    "  capture = cv2.VideoCapture(video_path)\n",
    "  count_frames = int(capture.get(cv2.CAP_PROP_FRAME_COUNT))\n",
    "  skip_step = int(count_frames/frame)\n",
    "  skip_frame = max(skip_step, 1)\n",
    "  for i in range(frame):\n",
    "    capture.set(cv2.CAP_PROP_POS_FRAMES, i * skip_frame)\n",
    "    success, frame = capture.read()\n",
    "    if not success:\n",
    "        break\n",
    "    size_image =(img_height, img_width)\n",
    "    resize_f = cv2.resize(frame, size_image)\n",
    "    norm_f = resize_f / 255\n",
    "    frames.append(norm_f)\n",
    "  capture.release()\n",
    "  return frames"
   ]
  },
  {
   "cell_type": "markdown",
   "metadata": {
    "id": "sfTpqZg13J8g"
   },
   "source": [
    "# Feature extraction"
   ]
  },
  {
   "cell_type": "code",
   "execution_count": 4,
   "metadata": {
    "id": "V-C5lTLruu1g"
   },
   "outputs": [],
   "source": [
    "#extracting features from the videos\n",
    "def features_creation():\n",
    "    features = []\n",
    "    labels = []\n",
    "    vids = []\n",
    "\n",
    "    for i, j in enumerate(CLASSES_LIST):\n",
    "        files = os.listdir(os.path.join(Dataset, j))\n",
    "        for file in files:\n",
    "            video_file_path = os.path.join(Dataset, j, file)\n",
    "            frames = extract_frames(video_file_path)\n",
    "            if len(frames) == frame:\n",
    "                features.append(frames)\n",
    "                labels.append(i)\n",
    "                vids.append(video_file_path)\n",
    "\n",
    "    features = np.asarray(features)\n",
    "    labels = np.array(labels)\n",
    "    return features, labels, vids"
   ]
  },
  {
   "cell_type": "code",
   "execution_count": 5,
   "metadata": {
    "id": "7T1I72t-wQKT"
   },
   "outputs": [],
   "source": [
    "features, labels, file_paths = features_creation()"
   ]
  },
  {
   "cell_type": "code",
   "execution_count": 6,
   "metadata": {
    "id": "FVwTQ0SXwRLo"
   },
   "outputs": [],
   "source": [
    "onehot_labels = to_categorical(labels)"
   ]
  },
  {
   "cell_type": "markdown",
   "metadata": {
    "id": "tpdf-6Zv3hEP"
   },
   "source": [
    "# Initializing the test size"
   ]
  },
  {
   "cell_type": "code",
   "execution_count": 7,
   "metadata": {
    "id": "8n7VTYOWwb7Y"
   },
   "outputs": [],
   "source": [
    "features_train, features_test, labels_train, labels_test = train_test_split(features, onehot_labels, test_size = 0.10, shuffle = True, random_state = seed_constant)"
   ]
  },
  {
   "cell_type": "markdown",
   "metadata": {
    "id": "fW2hM2De3mze"
   },
   "source": [
    "# Defining the convoLSTM Model\n",
    "The model includes a combination of ConvLSTM2d layers, 3D MaxPooling layers, TimeDistributed layers with Dropout, a Flatten layer, BatchNormalization, and a Dense layer for classification.\n",
    "\n",
    "These layers make up a model for activity analysis in videos. The convoLSTM layers capture spatial and temporal features in the video. Whereas the pooling layers reduce dimensionality. The Dropout layer helps in prevention of overfitting, and batch normalization layer improves training stability of the model. The final dense layer produces a classification output."
   ]
  },
  {
   "cell_type": "code",
   "execution_count": 8,
   "metadata": {
    "id": "aY-nrN-twjwc"
   },
   "outputs": [],
   "source": [
    "def convlstm():\n",
    "\n",
    "    # We will use a Sequential model for model construction\n",
    "    model = Sequential()\n",
    "\n",
    "    # Define the Model Architecture.\n",
    "\n",
    "    model = Sequential([\n",
    "        ConvLSTM2D(filters=16, kernel_size=(3, 3), activation='relu', data_format=\"channels_last\",\n",
    "                   recurrent_dropout=0.3, return_sequences=True, input_shape=(frame, img_height, img_width, 3)),\n",
    "\n",
    "        MaxPooling3D(pool_size=(1, 3, 3), padding='same', data_format='channels_last'),\n",
    "        TimeDistributed(Dropout(0.3)),\n",
    "\n",
    "        ConvLSTM2D(filters=32, kernel_size=(3, 3), activation='relu', data_format=\"channels_last\",\n",
    "                   recurrent_dropout=0.3, return_sequences=True),\n",
    "\n",
    "        MaxPooling3D(pool_size=(1, 3, 3), padding='same', data_format='channels_last'),\n",
    "        TimeDistributed(Dropout(0.3)),\n",
    "\n",
    "        Flatten(),\n",
    "        BatchNormalization(),\n",
    "\n",
    "        Dense(len(CLASSES_LIST), activation=\"sigmoid\")\n",
    "    ])\n",
    "\n",
    "    # Display the models summary.\n",
    "    model.summary()\n",
    "\n",
    "    # Return the constructed convlstm model.\n",
    "    return model\n",
    "\n"
   ]
  },
  {
   "cell_type": "markdown",
   "metadata": {
    "id": "YPqALrI25GfD"
   },
   "source": [
    "# Defining the required data for the model"
   ]
  },
  {
   "cell_type": "code",
   "execution_count": 9,
   "metadata": {
    "colab": {
     "base_uri": "https://localhost:8080/"
    },
    "id": "KVljjAguxASI",
    "outputId": "8ac15b52-5414-4b94-d162-9af72e163ffe"
   },
   "outputs": [
    {
     "name": "stdout",
     "output_type": "stream",
     "text": [
      "Model: \"sequential_1\"\n",
      "_________________________________________________________________\n",
      " Layer (type)                Output Shape              Param #   \n",
      "=================================================================\n",
      " conv_lstm2d (ConvLSTM2D)    (None, 20, 126, 126, 16   11008     \n",
      "                             )                                   \n",
      "                                                                 \n",
      " max_pooling3d (MaxPooling3  (None, 20, 42, 42, 16)    0         \n",
      " D)                                                              \n",
      "                                                                 \n",
      " time_distributed (TimeDist  (None, 20, 42, 42, 16)    0         \n",
      " ributed)                                                        \n",
      "                                                                 \n",
      " conv_lstm2d_1 (ConvLSTM2D)  (None, 20, 40, 40, 32)    55424     \n",
      "                                                                 \n",
      " max_pooling3d_1 (MaxPoolin  (None, 20, 14, 14, 32)    0         \n",
      " g3D)                                                            \n",
      "                                                                 \n",
      " time_distributed_1 (TimeDi  (None, 20, 14, 14, 32)    0         \n",
      " stributed)                                                      \n",
      "                                                                 \n",
      " flatten (Flatten)           (None, 125440)            0         \n",
      "                                                                 \n",
      " batch_normalization (Batch  (None, 125440)            501760    \n",
      " Normalization)                                                  \n",
      "                                                                 \n",
      " dense (Dense)               (None, 3)                 376323    \n",
      "                                                                 \n",
      "=================================================================\n",
      "Total params: 944515 (3.60 MB)\n",
      "Trainable params: 693635 (2.65 MB)\n",
      "Non-trainable params: 250880 (980.00 KB)\n",
      "_________________________________________________________________\n"
     ]
    }
   ],
   "source": [
    "optimizer = Adam(learning_rate=0.0001)\n",
    "convlstm_model = convlstm()"
   ]
  },
  {
   "cell_type": "markdown",
   "metadata": {
    "id": "C_5MEVauEX8L"
   },
   "source": [
    "# Defining required parameters and evaluating the results"
   ]
  },
  {
   "cell_type": "code",
   "execution_count": 10,
   "metadata": {
    "colab": {
     "base_uri": "https://localhost:8080/"
    },
    "id": "Efw0D8vPxA4c",
    "outputId": "994b3387-3d33-4bb0-f48e-09a8f2a163ec"
   },
   "outputs": [
    {
     "name": "stdout",
     "output_type": "stream",
     "text": [
      "Epoch 1/100\n",
      "54/54 [==============================] - 42s 289ms/step - loss: 1.6974 - accuracy: 0.3426 - val_loss: 1.1212 - val_accuracy: 0.2778\n",
      "Epoch 2/100\n",
      "54/54 [==============================] - 13s 250ms/step - loss: 1.1467 - accuracy: 0.3935 - val_loss: 1.1321 - val_accuracy: 0.4074\n",
      "Epoch 3/100\n",
      "54/54 [==============================] - 13s 243ms/step - loss: 1.2054 - accuracy: 0.3148 - val_loss: 1.1223 - val_accuracy: 0.2778\n",
      "Epoch 4/100\n",
      "54/54 [==============================] - 15s 270ms/step - loss: 1.0819 - accuracy: 0.4583 - val_loss: 1.4929 - val_accuracy: 0.3148\n",
      "Epoch 5/100\n",
      "54/54 [==============================] - 14s 261ms/step - loss: 1.1608 - accuracy: 0.4491 - val_loss: 1.4546 - val_accuracy: 0.3148\n",
      "Epoch 6/100\n",
      "54/54 [==============================] - 14s 255ms/step - loss: 1.0530 - accuracy: 0.4444 - val_loss: 1.1430 - val_accuracy: 0.2593\n",
      "Epoch 7/100\n",
      "54/54 [==============================] - 14s 255ms/step - loss: 1.1268 - accuracy: 0.5278 - val_loss: 1.3437 - val_accuracy: 0.2593\n",
      "Epoch 8/100\n",
      "54/54 [==============================] - 13s 249ms/step - loss: 1.0672 - accuracy: 0.5648 - val_loss: 3.5859 - val_accuracy: 0.2778\n",
      "Epoch 9/100\n",
      "54/54 [==============================] - 14s 254ms/step - loss: 1.0701 - accuracy: 0.5648 - val_loss: 1.5864 - val_accuracy: 0.2593\n",
      "Epoch 10/100\n",
      "54/54 [==============================] - 14s 254ms/step - loss: 0.9569 - accuracy: 0.5972 - val_loss: 1.5835 - val_accuracy: 0.2778\n",
      "Epoch 11/100\n",
      "54/54 [==============================] - 13s 249ms/step - loss: 0.8243 - accuracy: 0.6667 - val_loss: 1.4908 - val_accuracy: 0.3333\n",
      "Epoch 12/100\n",
      "54/54 [==============================] - 13s 249ms/step - loss: 0.6842 - accuracy: 0.7130 - val_loss: 1.6374 - val_accuracy: 0.3519\n"
     ]
    }
   ],
   "source": [
    "#earLy stopping\n",
    "early = {\n",
    "    'monitor': 'val_accuracy',\n",
    "    'patience': 10,\n",
    "    'mode': 'max',\n",
    "    'restore_best_weights': True\n",
    "}\n",
    "early_stop = EarlyStopping(**early)\n",
    "\n",
    "#initializing values to compile\n",
    "comp = {\n",
    "    'loss': 'categorical_crossentropy',\n",
    "    'optimizer': 'Adam',\n",
    "    'metrics': [\"accuracy\"]\n",
    "}\n",
    "convlstm_model.compile(**comp)\n",
    "\n",
    "#Training the model\n",
    "fit = {\n",
    "    'x': features_train,\n",
    "    'y': labels_train,\n",
    "    'epochs': 100,\n",
    "    'batch_size': 4,\n",
    "    'shuffle': True,\n",
    "    'validation_split': 0.2,\n",
    "    'callbacks': [early_stop]\n",
    "}\n",
    "convlstm_model_training_history = convlstm_model.fit(**fit)\n",
    "\n"
   ]
  },
  {
   "cell_type": "code",
   "execution_count": 11,
   "metadata": {
    "colab": {
     "base_uri": "https://localhost:8080/",
     "height": 487
    },
    "id": "1LUrPXN8ITTF",
    "outputId": "fbd922d8-372b-45de-90e1-72e31a1cbe34"
   },
   "outputs": [
    {
     "name": "stdout",
     "output_type": "stream",
     "text": [
      "the Model results are as follows:\n",
      "1/1 [==============================] - 1s 735ms/step - loss: 1.1866 - accuracy: 0.3667\n"
     ]
    },
    {
     "data": {
      "image/png": "[encoded data removed]",
      "text/plain": [
       "<Figure size 640x480 with 1 Axes>"
      ]
     },
     "metadata": {},
     "output_type": "display_data"
    }
   ],
   "source": [
    "print(\"the Model results are as follows:\")\n",
    "#Evaluating the model\n",
    "model_evaluation_history = convlstm_model.evaluate(features_test, labels_test)\n",
    "# Get metric values using metric names as identifiers.\n",
    "a = 'accuracy'\n",
    "b = 'val_accuracy'\n",
    "a1 = convlstm_model_training_history.history[a]\n",
    "b1 = convlstm_model_training_history.history[b]\n",
    "\n",
    "# Construct a range object which will be used as x-axis (horizontal plane) of the graph.\n",
    "epochs = range(len(a1))\n",
    "\n",
    "# Plot the Graph.\n",
    "plt.plot(epochs, a1, 'red', label=a)\n",
    "plt.plot(epochs, b1, 'green', label=b)\n",
    "\n",
    "# Add title to the plot.\n",
    "plt.title('Total Accuracy vs Total Validation Accuracy')\n",
    "\n",
    "# Add legend to the plot.\n",
    "plt.legend()\n",
    "\n",
    "# Show the plot\n",
    "plt.show()\n"
   ]
  },
  {
   "cell_type": "markdown",
   "metadata": {
    "id": "4mBltTv7GAVV"
   },
   "source": [
    "# Results\n",
    "This model has given 36% accuracy, which is nearby when we were testing accuracy for it. And after preprocessing of images we expect to see a rise in accuracy of the model by 5-6%."
   ]
  },
  {
   "cell_type": "code",
   "execution_count": 11,
   "metadata": {
    "id": "MgNV6sFEGNwU"
   },
   "outputs": [],
   "source": []
  }
 ],
 "metadata": {
  "accelerator": "GPU",
  "colab": {
   "gpuType": "T4",
   "provenance": []
  },
  "kernelspec": {
   "display_name": "Python 3 (ipykernel)",
   "language": "python",
   "name": "python3"
  },
  "language_info": {
   "codemirror_mode": {
    "name": "ipython",
    "version": 3
   },
   "file_extension": ".py",
   "mimetype": "text/x-python",
   "name": "python",
   "nbconvert_exporter": "python",
   "pygments_lexer": "ipython3",
   "version": "3.11.5"
  }
 },
 "nbformat": 4,
 "nbformat_minor": 4
}
